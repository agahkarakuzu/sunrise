{
 "cells": [
  {
   "cell_type": "markdown",
   "metadata": {
    "slideshow": {
     "slide_type": "slide"
    }
   },
   "source": [
    "<div class=\"alert alert-block alert-success\" style=\"background-color:#1e3059;border-radius:30px 10px\">\n",
    "<h1 style=\"color:white;margin-top:1px;\"> Step-1 | Shopping: Know your file formats and data standards</h1></div>\n",
    "\n",
    "Most high-level programming languages have a `native` way for packing and unpacking their own objects:\n",
    "\n",
    "| Language | Format   |\n",
    "| :-------- | :-------  |\n",
    "| MATLAB   | `*.mat`  |\n",
    "| R        | `*.save` |\n",
    "| Python   | `*.pkl`  |\n",
    "| Julia    | `*.jld`  |    \n",
    "\n",
    "\n",
    "\n",
    "<code style=\"background:yellow;color:black\">But when we go to community markets for <code>data shopping</code> to cook a nutritious meal, we usually don't find ingridients available in such formats. </code>"
   ]
  },
  {
   "cell_type": "markdown",
   "metadata": {
    "slideshow": {
     "slide_type": "slide"
    }
   },
   "source": [
    "### Let's say we'd like to bake a `Pythonic pizza 🍕`,  and we need tomatoes `🍅`   \n",
    "\n",
    "![](assets/tomato.png)"
   ]
  },
  {
   "cell_type": "markdown",
   "metadata": {
    "slideshow": {
     "slide_type": "slide"
    }
   },
   "source": [
    "![](assets/gordon.png)"
   ]
  },
  {
   "cell_type": "markdown",
   "metadata": {
    "slideshow": {
     "slide_type": "slide"
    }
   },
   "source": [
    "### 🛒 Sunrise Market - Everything you need to throw an audiovisual MRI dinner party\n",
    "\n",
    "![](assets/sunrise_market.png)"
   ]
  },
  {
   "cell_type": "markdown",
   "metadata": {
    "slideshow": {
     "slide_type": "notes"
    }
   },
   "source": [
    "#### 1D Data 🎼\n",
    "\n",
    "Samples from different MRI sequences (including `NORAH JONES`) and some guitar melodies to compose magnetic melodies in Python. Files are in `*.wav` format, storing audio sampled at `44.1kHz` sampling frequency (or `framerate`) 💿. Respecting Nyquist sampling theorem, this `framerate` allows us to digitize analog sound at the highest frequency audiable to human ear (`20kHz`).    \n",
    "\n",
    "> There are so many Python modules that can load a `*.wav` in a single line, such as `scipy`, `librosa`, `soundfile`, `scikits` etc. \n",
    "\n",
    "For demonstration, we will use Python's standard `wave` library and convert data from `byte` array to `numpy` array. \n",
    "\n",
    "#### 2D Data 🌅\n",
    "\n",
    "Images acquired using the `NORAH JONES` sequence at 4 TRs. Each image is `100x100`, organized in [Brain Imaging Data Structure (BIDS)](https://bids-specification.readthedocs.io/en/stable/). We will use `pyBIDS` to query and load this data.\n",
    "\n",
    "#### 3D Data 🎆\n",
    "\n",
    "K-space data acquired using the `NORAH JONES` sequence at 4 TRs. Each file contains `100x100x1x16` data (`16` receive channels), organized in [ISMRM Raw Data - ISMRM-RD](https://github.com/ismrmrd/ismrmrd) format. We will use [`ismrmd-python`](https://github.com/ismrmrd/ismrmrd-python) to load this data."
   ]
  },
  {
   "cell_type": "markdown",
   "metadata": {
    "slideshow": {
     "slide_type": "slide"
    }
   },
   "source": [
    "<div class=\"alert alert-block alert-success\" style=\"background-color:#1e3059;border-radius:30px 10px\">\n",
    "<h1 style=\"color:white;margin-top:1px;\">  Step -2 Mise en place avec <code>NumPy</code></h1></div>\n",
    "\n",
    "<code style=\"background:yellow;color:black\">Load, slice, dice and \"put everything in place\".  </code>\n",
    "\n",
    "![](assets/numpy_step2.png)"
   ]
  },
  {
   "cell_type": "markdown",
   "metadata": {
    "slideshow": {
     "slide_type": "slide"
    }
   },
   "source": [
    "<div class=\"alert alert-block alert-success\" style=\"background-color:#1e3059;border-radius:30px 10px\">\n",
    "<h1 style=\"color:white;margin-top:1px;\">  Step -3 Let's welcome our favourite <code>SciPy</code> chefs!</h1></div>\n",
    "\n",
    "<code style=\"background:yellow;color:black\">Python chefs, at your service.</code>\n",
    "\n",
    "![](assets/scipy_chefs.png)"
   ]
  },
  {
   "cell_type": "markdown",
   "metadata": {
    "slideshow": {
     "slide_type": "slide"
    }
   },
   "source": [
    "![](assets/np_basics.png)\n",
    "\n",
    "### `NumPy` arrays\n",
    "\n",
    "![](assets/np_array.png)\n",
    "\n",
    "Visit the reference [blog post](https://jalammar.github.io/visual-numpy/) for more examples."
   ]
  },
  {
   "cell_type": "markdown",
   "metadata": {
    "slideshow": {
     "slide_type": "subslide"
    }
   },
   "source": [
    "> If you have `lolviz` and its dependencies intalled properly, `arrayviz` function will show you a visual representation of the array. If not, you will see the `print` output. \n",
    "\n",
    "#### import `numpy` as `np`"
   ]
  },
  {
   "cell_type": "code",
   "execution_count": 67,
   "metadata": {
    "slideshow": {
     "slide_type": "fragment"
    }
   },
   "outputs": [
    {
     "data": {
      "text/plain": [
       "'/Users/agah/.jupyter'"
      ]
     },
     "execution_count": 67,
     "metadata": {},
     "output_type": "execute_result"
    }
   ],
   "source": [
    "# Import NumPy \n",
    "import numpy as np  \n",
    "import jupyter_core\n",
    "jupyter_core.paths.jupyter_config_dir()"
   ]
  },
  {
   "cell_type": "code",
   "execution_count": null,
   "metadata": {},
   "outputs": [],
   "source": []
  },
  {
   "cell_type": "code",
   "execution_count": 38,
   "metadata": {
    "slideshow": {
     "slide_type": "fragment"
    }
   },
   "outputs": [],
   "source": [
    "# A tiny exception block\n",
    "try: \n",
    "    from lolviz import listviz as lolist\n",
    "except:\n",
    "    print('Lolviz is not enabled.')\n",
    "\n",
    "# Pictorial representation of arrays   \n",
    "def arrayviz(inp): \n",
    "    try:\n",
    "        out = lolist(inp)\n",
    "    except:\n",
    "        out = print(inp)\n",
    "    return out"
   ]
  },
  {
   "cell_type": "markdown",
   "metadata": {
    "slideshow": {
     "slide_type": "fragment"
    }
   },
   "source": [
    "#### Array creation routines\n",
    "`array` `empty` `zeros` `ones` `linspace` `arange` `full` "
   ]
  },
  {
   "cell_type": "code",
   "execution_count": 36,
   "metadata": {
    "slideshow": {
     "slide_type": "fragment"
    }
   },
   "outputs": [
    {
     "name": "stdout",
     "output_type": "stream",
     "text": [
      "Number of dimensions:  1\n",
      "Array shape (row,col):  (8,)\n",
      "Array size (number of elements):  8\n",
      "Array data type int64\n",
      "Item size in bytes 8\n"
     ]
    },
    {
     "data": {
      "image/svg+xml": [
       "<?xml version=\"1.0\" encoding=\"UTF-8\" standalone=\"no\"?>\n",
       "<!DOCTYPE svg PUBLIC \"-//W3C//DTD SVG 1.1//EN\"\n",
       " \"http://www.w3.org/Graphics/SVG/1.1/DTD/svg11.dtd\">\n",
       "<!-- Generated by graphviz version 2.47.0 (20210316.0004)\n",
       " -->\n",
       "<!-- Title: G Pages: 1 -->\n",
       "<svg width=\"190pt\" height=\"40pt\"\n",
       " viewBox=\"0.00 0.00 190.00 40.00\" xmlns=\"http://www.w3.org/2000/svg\" xmlns:xlink=\"http://www.w3.org/1999/xlink\">\n",
       "<g id=\"graph0\" class=\"graph\" transform=\"scale(1 1) rotate(0) translate(4 36)\">\n",
       "<title>G</title>\n",
       "<polygon fill=\"white\" stroke=\"transparent\" points=\"-4,4 -4,-36 186,-36 186,4 -4,4\"/>\n",
       "<!-- node140323303289520 -->\n",
       "<g id=\"node1\" class=\"node\">\n",
       "<title>node140323303289520</title>\n",
       "<polygon fill=\"none\" stroke=\"black\" stroke-width=\"0.5\" points=\"182,-32 0,-32 0,0 182,0 182,-32\"/>\n",
       "<polygon fill=\"#fefecd\" stroke=\"transparent\" points=\"1,-19 1,-31 20,-31 20,-19 1,-19\"/>\n",
       "<polyline fill=\"none\" stroke=\"black\" points=\"1,-19 20,-19 20,-31 \"/>\n",
       "<text text-anchor=\"start\" x=\"7.5\" y=\"-22.8\" font-family=\"Helvetica,sans-Serif\" font-size=\"9.00\" fill=\"#444443\">0</text>\n",
       "<polygon fill=\"#fefecd\" stroke=\"transparent\" points=\"20,-19 20,-31 39,-31 39,-19 20,-19\"/>\n",
       "<polyline fill=\"none\" stroke=\"black\" points=\"20,-19 39,-19 39,-31 \"/>\n",
       "<text text-anchor=\"start\" x=\"26.5\" y=\"-22.8\" font-family=\"Helvetica,sans-Serif\" font-size=\"9.00\" fill=\"#444443\">1</text>\n",
       "<polygon fill=\"#fefecd\" stroke=\"transparent\" points=\"39,-19 39,-31 58,-31 58,-19 39,-19\"/>\n",
       "<polyline fill=\"none\" stroke=\"black\" points=\"39,-19 58,-19 58,-31 \"/>\n",
       "<text text-anchor=\"start\" x=\"45.5\" y=\"-22.8\" font-family=\"Helvetica,sans-Serif\" font-size=\"9.00\" fill=\"#444443\">2</text>\n",
       "<polygon fill=\"#fefecd\" stroke=\"transparent\" points=\"58,-19 58,-31 83,-31 83,-19 58,-19\"/>\n",
       "<polyline fill=\"none\" stroke=\"black\" points=\"58,-19 83,-19 83,-31 \"/>\n",
       "<text text-anchor=\"start\" x=\"67.5\" y=\"-22.8\" font-family=\"Helvetica,sans-Serif\" font-size=\"9.00\" fill=\"#444443\">3</text>\n",
       "<polygon fill=\"#fefecd\" stroke=\"transparent\" points=\"83,-19 83,-31 108,-31 108,-19 83,-19\"/>\n",
       "<polyline fill=\"none\" stroke=\"black\" points=\"83,-19 108,-19 108,-31 \"/>\n",
       "<text text-anchor=\"start\" x=\"92.5\" y=\"-22.8\" font-family=\"Helvetica,sans-Serif\" font-size=\"9.00\" fill=\"#444443\">4</text>\n",
       "<polygon fill=\"#fefecd\" stroke=\"transparent\" points=\"108,-19 108,-31 133,-31 133,-19 108,-19\"/>\n",
       "<polyline fill=\"none\" stroke=\"black\" points=\"108,-19 133,-19 133,-31 \"/>\n",
       "<text text-anchor=\"start\" x=\"117.5\" y=\"-22.8\" font-family=\"Helvetica,sans-Serif\" font-size=\"9.00\" fill=\"#444443\">5</text>\n",
       "<polygon fill=\"#fefecd\" stroke=\"transparent\" points=\"133,-19 133,-31 158,-31 158,-19 133,-19\"/>\n",
       "<polyline fill=\"none\" stroke=\"black\" points=\"133,-19 158,-19 158,-31 \"/>\n",
       "<text text-anchor=\"start\" x=\"142.5\" y=\"-22.8\" font-family=\"Helvetica,sans-Serif\" font-size=\"9.00\" fill=\"#444443\">6</text>\n",
       "<polygon fill=\"#fefecd\" stroke=\"transparent\" points=\"158,-19 158,-31 181,-31 181,-19 158,-19\"/>\n",
       "<polyline fill=\"none\" stroke=\"black\" points=\"158,-19 181,-19 \"/>\n",
       "<text text-anchor=\"start\" x=\"166.5\" y=\"-22.8\" font-family=\"Helvetica,sans-Serif\" font-size=\"9.00\" fill=\"#444443\">7</text>\n",
       "<polygon fill=\"#fefecd\" stroke=\"transparent\" points=\"1,-1 1,-19 20,-19 20,-1 1,-1\"/>\n",
       "<polyline fill=\"none\" stroke=\"black\" points=\"20,-1 20,-19 \"/>\n",
       "<text text-anchor=\"start\" x=\"4\" y=\"-7.2\" font-family=\"Helvetica,sans-Serif\" font-size=\"11.00\" fill=\"#444443\">33</text>\n",
       "<polygon fill=\"#fefecd\" stroke=\"transparent\" points=\"20,-1 20,-19 39,-19 39,-1 20,-1\"/>\n",
       "<polyline fill=\"none\" stroke=\"black\" points=\"39,-1 39,-19 \"/>\n",
       "<text text-anchor=\"start\" x=\"23\" y=\"-7.2\" font-family=\"Helvetica,sans-Serif\" font-size=\"11.00\" fill=\"#444443\">66</text>\n",
       "<polygon fill=\"#fefecd\" stroke=\"transparent\" points=\"39,-1 39,-19 58,-19 58,-1 39,-1\"/>\n",
       "<polyline fill=\"none\" stroke=\"black\" points=\"58,-1 58,-19 \"/>\n",
       "<text text-anchor=\"start\" x=\"42\" y=\"-7.2\" font-family=\"Helvetica,sans-Serif\" font-size=\"11.00\" fill=\"#444443\">99</text>\n",
       "<polygon fill=\"#fefecd\" stroke=\"transparent\" points=\"58,-1 58,-19 83,-19 83,-1 58,-1\"/>\n",
       "<polyline fill=\"none\" stroke=\"black\" points=\"83,-1 83,-19 \"/>\n",
       "<text text-anchor=\"start\" x=\"61\" y=\"-7.2\" font-family=\"Helvetica,sans-Serif\" font-size=\"11.00\" fill=\"#444443\">132</text>\n",
       "<polygon fill=\"#fefecd\" stroke=\"transparent\" points=\"83,-1 83,-19 108,-19 108,-1 83,-1\"/>\n",
       "<polyline fill=\"none\" stroke=\"black\" points=\"108,-1 108,-19 \"/>\n",
       "<text text-anchor=\"start\" x=\"86\" y=\"-7.2\" font-family=\"Helvetica,sans-Serif\" font-size=\"11.00\" fill=\"#444443\">165</text>\n",
       "<polygon fill=\"#fefecd\" stroke=\"transparent\" points=\"108,-1 108,-19 133,-19 133,-1 108,-1\"/>\n",
       "<polyline fill=\"none\" stroke=\"black\" points=\"133,-1 133,-19 \"/>\n",
       "<text text-anchor=\"start\" x=\"111\" y=\"-7.2\" font-family=\"Helvetica,sans-Serif\" font-size=\"11.00\" fill=\"#444443\">198</text>\n",
       "<polygon fill=\"#fefecd\" stroke=\"transparent\" points=\"133,-1 133,-19 158,-19 158,-1 133,-1\"/>\n",
       "<polyline fill=\"none\" stroke=\"black\" points=\"158,-1 158,-19 \"/>\n",
       "<text text-anchor=\"start\" x=\"136\" y=\"-7.2\" font-family=\"Helvetica,sans-Serif\" font-size=\"11.00\" fill=\"#444443\">231</text>\n",
       "<polygon fill=\"#fefecd\" stroke=\"transparent\" points=\"158,-1 158,-19 181,-19 181,-1 158,-1\"/>\n",
       "<text text-anchor=\"start\" x=\"160\" y=\"-7.2\" font-family=\"Helvetica,sans-Serif\" font-size=\"11.00\" fill=\"#444443\">264</text>\n",
       "</g>\n",
       "</g>\n",
       "</svg>\n"
      ],
      "text/plain": [
       "<graphviz.files.Source at 0x7f9f8f7be358>"
      ]
     },
     "execution_count": 36,
     "metadata": {},
     "output_type": "execute_result"
    }
   ],
   "source": [
    "# Let's create an array\n",
    "my_array1 = np.array([11,22,33,44,55,66,77,88])\n",
    "\n",
    "\n",
    "\n",
    "\n",
    "# dtype \n",
    "# ndmin \n",
    "\n",
    "print(\"Number of dimensions: \", my_array.ndim)\n",
    "print(\"Array shape (row,col): \", my_array.shape)\n",
    "print(\"Array size (number of elements): \", my_array.size)\n",
    "print(\"Array data type\", my_array.dtype)\n",
    "print(\"Item size in bytes\", my_array.itemsize)\n",
    "\n",
    "arrayviz(my_array3)"
   ]
  },
  {
   "cell_type": "markdown",
   "metadata": {
    "slideshow": {
     "slide_type": "slide"
    }
   },
   "source": [
    "`NumPy` provides us with:\n",
    "* A versatile chef's knife to slice our data as we like (slicing)\n",
    "* All the cookware to organize them (data types)\n",
    "* Easy way to access what we need, when we need (indexing)\n",
    "\n",
    "![](assets/np_array2.png)"
   ]
  },
  {
   "cell_type": "markdown",
   "metadata": {
    "slideshow": {
     "slide_type": "fragment"
    }
   },
   "source": [
    "#### Aggregation functions"
   ]
  },
  {
   "cell_type": "code",
   "execution_count": 42,
   "metadata": {
    "slideshow": {
     "slide_type": "fragment"
    }
   },
   "outputs": [
    {
     "name": "stdout",
     "output_type": "stream",
     "text": [
      "\n",
      " min:  11 \n",
      " max:  88 \n",
      " argmin:  0 \n",
      " argmax:  7 \n",
      " std:  25.20416632225712 \n",
      " sum:  396 \n",
      " prod:  8642950081920 \n",
      " mean:  49.5\n"
     ]
    },
    {
     "data": {
      "image/svg+xml": [
       "<?xml version=\"1.0\" encoding=\"UTF-8\" standalone=\"no\"?>\n",
       "<!DOCTYPE svg PUBLIC \"-//W3C//DTD SVG 1.1//EN\"\n",
       " \"http://www.w3.org/Graphics/SVG/1.1/DTD/svg11.dtd\">\n",
       "<!-- Generated by graphviz version 2.47.0 (20210316.0004)\n",
       " -->\n",
       "<!-- Title: G Pages: 1 -->\n",
       "<svg width=\"136pt\" height=\"40pt\"\n",
       " viewBox=\"0.00 0.00 136.00 40.00\" xmlns=\"http://www.w3.org/2000/svg\" xmlns:xlink=\"http://www.w3.org/1999/xlink\">\n",
       "<g id=\"graph0\" class=\"graph\" transform=\"scale(1 1) rotate(0) translate(4 36)\">\n",
       "<title>G</title>\n",
       "<polygon fill=\"white\" stroke=\"transparent\" points=\"-4,4 -4,-36 132,-36 132,4 -4,4\"/>\n",
       "<!-- node140323303291600 -->\n",
       "<g id=\"node1\" class=\"node\">\n",
       "<title>node140323303291600</title>\n",
       "<polygon fill=\"none\" stroke=\"black\" stroke-width=\"0.5\" points=\"128,-32 0,-32 0,0 128,0 128,-32\"/>\n",
       "<polygon fill=\"#fefecd\" stroke=\"transparent\" points=\"1,-19 1,-31 14,-31 14,-19 1,-19\"/>\n",
       "<polyline fill=\"none\" stroke=\"black\" points=\"1,-19 14,-19 14,-31 \"/>\n",
       "<text text-anchor=\"start\" x=\"4.5\" y=\"-22.8\" font-family=\"Helvetica,sans-Serif\" font-size=\"9.00\" fill=\"#444443\">0</text>\n",
       "<polygon fill=\"#fefecd\" stroke=\"transparent\" points=\"14,-19 14,-31 27,-31 27,-19 14,-19\"/>\n",
       "<polyline fill=\"none\" stroke=\"black\" points=\"14,-19 27,-19 27,-31 \"/>\n",
       "<text text-anchor=\"start\" x=\"17.5\" y=\"-22.8\" font-family=\"Helvetica,sans-Serif\" font-size=\"9.00\" fill=\"#444443\">1</text>\n",
       "<polygon fill=\"#fefecd\" stroke=\"transparent\" points=\"27,-19 27,-31 40,-31 40,-19 27,-19\"/>\n",
       "<polyline fill=\"none\" stroke=\"black\" points=\"27,-19 40,-19 40,-31 \"/>\n",
       "<text text-anchor=\"start\" x=\"30.5\" y=\"-22.8\" font-family=\"Helvetica,sans-Serif\" font-size=\"9.00\" fill=\"#444443\">2</text>\n",
       "<polygon fill=\"#fefecd\" stroke=\"transparent\" points=\"40,-19 40,-31 53,-31 53,-19 40,-19\"/>\n",
       "<polyline fill=\"none\" stroke=\"black\" points=\"40,-19 53,-19 53,-31 \"/>\n",
       "<text text-anchor=\"start\" x=\"43.5\" y=\"-22.8\" font-family=\"Helvetica,sans-Serif\" font-size=\"9.00\" fill=\"#444443\">3</text>\n",
       "<polygon fill=\"#fefecd\" stroke=\"transparent\" points=\"53,-19 53,-31 72,-31 72,-19 53,-19\"/>\n",
       "<polyline fill=\"none\" stroke=\"black\" points=\"53,-19 72,-19 72,-31 \"/>\n",
       "<text text-anchor=\"start\" x=\"59.5\" y=\"-22.8\" font-family=\"Helvetica,sans-Serif\" font-size=\"9.00\" fill=\"#444443\">4</text>\n",
       "<polygon fill=\"#fefecd\" stroke=\"transparent\" points=\"72,-19 72,-31 91,-31 91,-19 72,-19\"/>\n",
       "<polyline fill=\"none\" stroke=\"black\" points=\"72,-19 91,-19 91,-31 \"/>\n",
       "<text text-anchor=\"start\" x=\"78.5\" y=\"-22.8\" font-family=\"Helvetica,sans-Serif\" font-size=\"9.00\" fill=\"#444443\">5</text>\n",
       "<polygon fill=\"#fefecd\" stroke=\"transparent\" points=\"91,-19 91,-31 110,-31 110,-19 91,-19\"/>\n",
       "<polyline fill=\"none\" stroke=\"black\" points=\"91,-19 110,-19 110,-31 \"/>\n",
       "<text text-anchor=\"start\" x=\"97.5\" y=\"-22.8\" font-family=\"Helvetica,sans-Serif\" font-size=\"9.00\" fill=\"#444443\">6</text>\n",
       "<polygon fill=\"#fefecd\" stroke=\"transparent\" points=\"110,-19 110,-31 127,-31 127,-19 110,-19\"/>\n",
       "<polyline fill=\"none\" stroke=\"black\" points=\"110,-19 127,-19 \"/>\n",
       "<text text-anchor=\"start\" x=\"115.5\" y=\"-22.8\" font-family=\"Helvetica,sans-Serif\" font-size=\"9.00\" fill=\"#444443\">7</text>\n",
       "<polygon fill=\"#fefecd\" stroke=\"transparent\" points=\"1,-1 1,-19 14,-19 14,-1 1,-1\"/>\n",
       "<polyline fill=\"none\" stroke=\"black\" points=\"14,-1 14,-19 \"/>\n",
       "<text text-anchor=\"start\" x=\"4\" y=\"-7.2\" font-family=\"Helvetica,sans-Serif\" font-size=\"11.00\" fill=\"#444443\">0</text>\n",
       "<polygon fill=\"#fefecd\" stroke=\"transparent\" points=\"14,-1 14,-19 27,-19 27,-1 14,-1\"/>\n",
       "<polyline fill=\"none\" stroke=\"black\" points=\"27,-1 27,-19 \"/>\n",
       "<text text-anchor=\"start\" x=\"17\" y=\"-7.2\" font-family=\"Helvetica,sans-Serif\" font-size=\"11.00\" fill=\"#444443\">0</text>\n",
       "<polygon fill=\"#fefecd\" stroke=\"transparent\" points=\"27,-1 27,-19 40,-19 40,-1 27,-1\"/>\n",
       "<polyline fill=\"none\" stroke=\"black\" points=\"40,-1 40,-19 \"/>\n",
       "<text text-anchor=\"start\" x=\"30\" y=\"-7.2\" font-family=\"Helvetica,sans-Serif\" font-size=\"11.00\" fill=\"#444443\">0</text>\n",
       "<polygon fill=\"#fefecd\" stroke=\"transparent\" points=\"40,-1 40,-19 53,-19 53,-1 40,-1\"/>\n",
       "<polyline fill=\"none\" stroke=\"black\" points=\"53,-1 53,-19 \"/>\n",
       "<text text-anchor=\"start\" x=\"43\" y=\"-7.2\" font-family=\"Helvetica,sans-Serif\" font-size=\"11.00\" fill=\"#444443\">0</text>\n",
       "<polygon fill=\"#fefecd\" stroke=\"transparent\" points=\"53,-1 53,-19 72,-19 72,-1 53,-1\"/>\n",
       "<polyline fill=\"none\" stroke=\"black\" points=\"72,-1 72,-19 \"/>\n",
       "<text text-anchor=\"start\" x=\"56\" y=\"-7.2\" font-family=\"Helvetica,sans-Serif\" font-size=\"11.00\" fill=\"#444443\">55</text>\n",
       "<polygon fill=\"#fefecd\" stroke=\"transparent\" points=\"72,-1 72,-19 91,-19 91,-1 72,-1\"/>\n",
       "<polyline fill=\"none\" stroke=\"black\" points=\"91,-1 91,-19 \"/>\n",
       "<text text-anchor=\"start\" x=\"75\" y=\"-7.2\" font-family=\"Helvetica,sans-Serif\" font-size=\"11.00\" fill=\"#444443\">66</text>\n",
       "<polygon fill=\"#fefecd\" stroke=\"transparent\" points=\"91,-1 91,-19 110,-19 110,-1 91,-1\"/>\n",
       "<polyline fill=\"none\" stroke=\"black\" points=\"110,-1 110,-19 \"/>\n",
       "<text text-anchor=\"start\" x=\"94\" y=\"-7.2\" font-family=\"Helvetica,sans-Serif\" font-size=\"11.00\" fill=\"#444443\">77</text>\n",
       "<polygon fill=\"#fefecd\" stroke=\"transparent\" points=\"110,-1 110,-19 127,-19 127,-1 110,-1\"/>\n",
       "<text text-anchor=\"start\" x=\"112\" y=\"-7.2\" font-family=\"Helvetica,sans-Serif\" font-size=\"11.00\" fill=\"#444443\">88</text>\n",
       "</g>\n",
       "</g>\n",
       "</svg>\n"
      ],
      "text/plain": [
       "<graphviz.files.Source at 0x7f9f8f7be898>"
      ]
     },
     "execution_count": 42,
     "metadata": {},
     "output_type": "execute_result"
    }
   ],
   "source": [
    "my_array = np.arange(11,89,11)\n",
    "\n",
    "print(\n",
    "    \"\\n min: \", my_array2.min(),       # Returns the minimum element itself\n",
    "    \"\\n max: \", my_array2.max(),       # Returns the maximum element itself\n",
    "    \"\\n argmin: \", my_array2.argmin(), # Returns the index of the minimum element in the array\n",
    "    \"\\n argmax: \", my_array2.argmax(), # Returns the index of the maximum element in the array\n",
    "    \"\\n std: \", my_array2.std(),       # Returns the standard deviation of the array \n",
    "    \"\\n sum: \", my_array2.sum(),       # Returns the sum of the elements in the array  \n",
    "    \"\\n prod: \", my_array2.prod(),     # Returns the product of the elements in the array \n",
    "    \"\\n mean: \", my_array2.mean()\n",
    "    \n",
    ")\n",
    "\n",
    "my_array[my_array<50] = 0\n",
    "arrayviz(my_array)"
   ]
  },
  {
   "cell_type": "markdown",
   "metadata": {
    "slideshow": {
     "slide_type": "fragment"
    }
   },
   "source": [
    "#### Is `np.max()` any better than `max()` ? \n",
    "\n",
    "To see whether `np.max()` is faster, first we need to create a larger array. Then, we'll use `%timeit` magic to see which one outperforms the other 🏎"
   ]
  },
  {
   "cell_type": "code",
   "execution_count": 64,
   "metadata": {},
   "outputs": [
    {
     "name": "stdout",
     "output_type": "stream",
     "text": [
      "Numpy aggregation\n",
      "7.79 µs ± 945 ns per loop (mean ± std. dev. of 7 runs, 500 loops each)\n",
      "Python native\n",
      "772 µs ± 34.6 µs per loop (mean ± std. dev. of 7 runs, 500 loops each)\n"
     ]
    }
   ],
   "source": [
    "test = np.random.rand(10000)\n",
    "\n",
    "print('Numpy aggregation')\n",
    "\n",
    "%timeit -n 500 mx = test.max()\n",
    "\n",
    "print('Python native')\n",
    "\n",
    "%timeit -n 500 mx2 = max(test)"
   ]
  },
  {
   "cell_type": "markdown",
   "metadata": {
    "slideshow": {
     "slide_type": "slide"
    }
   },
   "source": [
    "<div class=\"alert alert-block alert-info\">\n",
    "<h2> Exercise - 1 | Everybody loves an <code>EPI</code> scan, let's hear it </h2 ></div>\n",
    "\n",
    "\n",
    "<div class=\"alert alert-block alert-success\">\n",
    "<h3>  1️⃣ Know your data (at least) <strong style=\"color:darkgreen\"><u>at the level you are dealing with it</u></strong> </h3></div>\n",
    "\n",
    "![](assets/wave_np.png)\n",
    "\n",
    "Please 🐻 with me here for a while, because we'll be dealing with `*wav` files at a somewhat low-level. \n",
    "\n",
    "For demonstration, we will write a small function that can read and parse `*.wav` files into a `NumPy` array: We need to know the anatomy of a `*.wav` file. \n",
    "\n",
    "![](https://i.stack.imgur.com/GfSNy.png)\n"
   ]
  },
  {
   "cell_type": "markdown",
   "metadata": {
    "slideshow": {
     "slide_type": "slide"
    }
   },
   "source": [
    "<code style=\"background:yellow;color:black\">This step has no coding. Yet, having some insights about your data beforehand gives you a great headstart for the next step! </code>\n",
    "\n",
    "So, [in a manner of speaking](https://www.youtube.com/watch?v=zXhLFb34nz4), semantics **will** do 🙃 If Nouvelle Vague reference did not fly, maybe this will:\n",
    "\n",
    "<div class=\"alert alert-block alert-warning\">\n",
    "<b> BOLDplay - Fix it</b> \n",
    "<br>    \n",
    "<br> When you try your best, but you can't debug\n",
    "<br> When p&lt;0.001, but you are not comfortable with it\n",
    "<br> When you read the code, but it seems OK \n",
    "<br> Stuck in limbo\n",
    "<br>\n",
    "<br> And you find something fishy in your custom reader \n",
    "<br> When you analyze for days, but it goes to waste\n",
    "<br> Could it be worse?    \n",
    "<br>    \n",
    "<br> Data standards will guide you home\n",
    "<br> And validate your data \n",
    "<br> And you won't need to fix it    \n",
    "<br>        \n",
    "</div>\n",
    "\n",
    "*** \n",
    "\n",
    "👉  **`WavMRI/epi.wav` is a stereo (2 channels) recording of the _acoustic noise EPI gradient pulses make_, sampled at `44.1kHz` for `7.42 seconds`. Saved at 16bit depth. This is how I know (Garageband):**\n",
    "\n",
    "![](assets/epi_details.png)\n",
    "\n",
    "$$ nSamples = frameRate \\ (Hz) * duration \\ (s) $$\n",
    "$$ 327547 \\approx 44100 * 7.42 $$\n",
    "\n",
    "\n",
    "<code style=\"background:yellow;color:black\"> Thus, we should expect an array with a length of <code> 655094 = 327547 (samples) X 2 (stereo means 2 channels) </code></code>\n",
    "\n",
    "\n",
    "*** \n",
    "\n",
    "The `number of bytes per sample` is `16(bits)/8 = 2`\n",
    "\n",
    "The `*.wav` file contains these information pieces in the `header`, describing the format of the sound information stored in the `data` chunk: \n",
    "\n",
    "|field name| description | \n",
    "|:---- | :---- |\n",
    "|`channels` | The number of channels in the wave file (mono = 1, stereo = 2) |\n",
    "|`sampwidth`| The number of bytes per sample |\n",
    "|`framerate` | The number of frames per second (a.k.a sampling frequency)|\n",
    "|`nframes` | The number of frames in the data stream (a.k.a number of samples)|\n",
    "|`bytes` | A **string object** containing the bytes of the data stream |\n",
    "\n",
    "$$ dataSize \\ (byte) = nSamples * nChannels * sampWidth $$\n",
    "$$ 327547*2*2 = 1310188 \\ (bytes) \\approx 1.3 \\ (MB) $$\n",
    "\n",
    "\n",
    "![](assets/epi_size.png)\n",
    "\n",
    "$$ TFW \\ what \\ you \\ know \\ about \\ the \\ data \\ makes \\ sense $$"
   ]
  },
  {
   "cell_type": "markdown",
   "metadata": {},
   "source": [
    "<div class=\"alert alert-block alert-success\">\n",
    "<h3> 2️⃣ Mise en place </h3></div>\n",
    "\n",
    "\n",
    "<code style=\"background:yellow;color:black\"> Before coding, we should relate our knowledge about the data with the docs of the module we'll use to read it!</code>\n",
    "<br><br>\n",
    "\n",
    "<details>\n",
    "    <summary> 👉 Click this line to expand the API documentation of <code>wave</code> module. See how objects returned by <code>open</code> can access <code>header</code> and <code>data</code> of a <code>*.wav</code> file! </summary>\n",
    "    <p><img src=\"assets/read_wave_api.png\"></p>\n",
    "</details>\n",
    "\n",
    "<br>"
   ]
  },
  {
   "cell_type": "markdown",
   "metadata": {},
   "source": [
    "<div class=\"alert alert-block alert-warning\">\n",
    "<b>We did the shopping!</b> \n",
    "<br>    \n",
    "    <br>  <code>*.wav</code>  is still a popular data format among music producers. So we are using fresh ingridients to compose our magnetic melodies, way to go! 👩‍🍳\n",
    "<br>        \n",
    "</div>\n",
    "\n",
    "<code style=\"background:yellow;color:black\"> Now it is time to combine our <code>*.wav</code> knowledge with our <code>NumPy</code> skills to create an object that we can <b>hear</b>.</code>\n",
    "\n",
    "![](assets/wavbox.png)"
   ]
  },
  {
   "cell_type": "code",
   "execution_count": null,
   "metadata": {},
   "outputs": [],
   "source": [
    "from wave import open as open_wave\n",
    "\n",
    "# Open \"WavMRI/EPI.wav\" file in read mode (open the box)\n",
    "\n",
    "\n",
    "# Use following methods to read metadata (read the invoice)\n",
    "# getnchannels() \n",
    "# getnframes()\n",
    "# getframerate()\n",
    "\n",
    "\n",
    "# Read byte ordered data (take out the content)\n",
    "\n",
    "\n",
    "# Close the file after reading (releases it from memory)\n",
    "\n",
    "\n",
    "# print(\"nChannels: \", nchannels , \"nFrames: \" , nframes, \"framerate: \",framerate, \"stringLength:\", len(z_str))\n",
    "\n",
    "# CREATE NUMPY ARRAY\n",
    "\n",
    "\n",
    "# TAKE MONO CHANNEL (Order is Ch1,Ch2,Ch1,Ch2....)\n"
   ]
  },
  {
   "cell_type": "code",
   "execution_count": 1,
   "metadata": {
    "slideshow": {
     "slide_type": "skip"
    }
   },
   "outputs": [],
   "source": [
    "def read_wave(filename):\n",
    "    '''\n",
    "    Now we have a tiny function that can\n",
    "    load 16bit wav files into a numpy array.\n",
    "    It also returns its time axis and sampling\n",
    "    frequency.\n",
    "    '''\n",
    "    fp = open_wave(filename, \"r\")\n",
    "    nchannels = fp.getnchannels()\n",
    "    nframes = fp.getnframes()\n",
    "    framerate = fp.getframerate()\n",
    "    z_str = fp.readframes(nframes)\n",
    "    fp.close()\n",
    "    ys = np.frombuffer(z_str, dtype=np.int16)    \n",
    "    if nchannels == 2:\n",
    "        ys = ys[::2]\n",
    "    ts = np.arange(ys.size)/framerate\n",
    "    return ys, framerate,ts"
   ]
  },
  {
   "cell_type": "markdown",
   "metadata": {},
   "source": [
    "#### Helper functions "
   ]
  },
  {
   "cell_type": "code",
   "execution_count": null,
   "metadata": {
    "slideshow": {
     "slide_type": "skip"
    }
   },
   "outputs": [],
   "source": [
    "from IPython.display import Audio\n",
    "\n",
    "def normalize(ys, amp=1.0):\n",
    "    '''\n",
    "    Amplitude range of the *.wav files we load\n",
    "    is random. This function will be useful when\n",
    "    we are combining tracks and would like to hear \n",
    "    some of them less/more in the mix. \n",
    "    '''\n",
    "    # Aggregation (to be)\n",
    "    high, low = abs(max(ys)), abs(min(ys))\n",
    "    # Broadcasting\n",
    "    return amp * ys / max(high, low)\n",
    "\n",
    "def make_audio(ys,frame_rate):\n",
    "    '''\n",
    "    To hear *.wav files we load into np.arrays,\n",
    "    we need to create an IPython Audio object. \n",
    "    '''\n",
    "    audio = Audio(data=ys,rate=frame_rate)\n",
    "    return audio\n",
    "\n",
    "def load_audio(filename,rate_factor=1,duration=0,volume=1):\n",
    "    '''\n",
    "    filename:    *.wav file \n",
    "    rate_factor: Changes sampling frequency at the audio\n",
    "                 generation step. This changes the frequency\n",
    "                 but also impacts the play duration.[0,inf)\n",
    "    duration:    Trims audio at a desired time point (s).                    \n",
    "    volume:      Normalizes signal amplitude [0-1] \n",
    "    '''\n",
    "    ys, fs, ts = read_wave(filename)\n",
    "    if duration is not 0: \n",
    "        # Type casting, broadcasting\n",
    "        cut = np.floor(fs*duration).astype('int')\n",
    "        # Slicing\n",
    "        ys = ys[:cut]\n",
    "        ts = ts[:cut]\n",
    "    ys = normalize(ys,volume)\n",
    "    audio = dict(\n",
    "                signal = ys,\n",
    "                time = ts,\n",
    "                fsamp = fs,\n",
    "                duration = ys.size/fs,\n",
    "                play = make_audio(ys,fs*rate_factor))\n",
    "    return audio"
   ]
  },
  {
   "cell_type": "markdown",
   "metadata": {},
   "source": [
    "### Simple `NumPy` operations & visualization"
   ]
  },
  {
   "cell_type": "code",
   "execution_count": null,
   "metadata": {},
   "outputs": [],
   "source": [
    "epi = load_audio('WavMRI/EPI.wav',rate_factor=0.94,duration=0.3, volume=0.5)\n",
    "epi['play']"
   ]
  },
  {
   "cell_type": "code",
   "execution_count": null,
   "metadata": {},
   "outputs": [],
   "source": [
    "1/1.06"
   ]
  },
  {
   "cell_type": "code",
   "execution_count": null,
   "metadata": {},
   "outputs": [],
   "source": [
    "np.floor(0.34*2).astype('int')"
   ]
  },
  {
   "cell_type": "code",
   "execution_count": null,
   "metadata": {},
   "outputs": [],
   "source": [
    "import plotly.express as px\n",
    "import plotly.graph_objects as go\n",
    "from pandas import DataFrame as pd \n",
    "\n",
    "df = pd.from_dict(dict(\n",
    "                    time = epi_time[::50],\n",
    "                    signal = epi[::50]\n",
    "                    ))\n",
    "\n",
    "fig = px.line(df,x='time',y='signal',\n",
    "              template='plotly_dark')\n",
    "fig.update_traces(line=dict(color='limegreen'),opacity=0.7)\n",
    "fig.update_yaxes(range=[-1,1])\n",
    "\n",
    "f2 = go.FigureWidget(fig)\n",
    "\n",
    "@interact(y=(0.0,1.0))\n",
    "def volume_plot(y):\n",
    "    f2.data[0].y = normalize(epi[::50],y)\n",
    "\n",
    "f2\n"
   ]
  },
  {
   "cell_type": "markdown",
   "metadata": {},
   "source": [
    "<div class=\"alert alert-block alert-warning\">\n",
    "    <h2> Let's hear NOt RApid Honestly JOyful NEvertheleSs (NORAH JONES) sequence</h2>       \n",
    "</div>"
   ]
  },
  {
   "cell_type": "markdown",
   "metadata": {},
   "source": [
    "<code style=\"background:yellow;color:black\">But first, we will combine the guitar melody (<code>🎸 WavGuitar/SUNRISE.wav</code>) with vocals 🎙 artfully recorded by <a href=\"https://soundcloud.com/beng-a\">Bengu Aktas</a> exclusively for this course. Thank you Bengu!   </code>"
   ]
  },
  {
   "cell_type": "code",
   "execution_count": null,
   "metadata": {},
   "outputs": [],
   "source": [
    "guitar, FR, guitar_time = read_wave('WavGuitar/SUNRISE_GUITAR.wav')\n",
    "samples = (np.sin(2*np.pi*np.arange(44100*duration(guitar,44100))*10/44100))/2\n",
    "make_audio(guitar * samples,FR)"
   ]
  },
  {
   "cell_type": "code",
   "execution_count": null,
   "metadata": {},
   "outputs": [],
   "source": [
    "vocal, FR, vocal_time = read_wave('WavVocal/SUNRISE_BENGU.wav')\n",
    "\n",
    "samples = (np.sin(2*np.pi*np.arange(44100*duration(vocal,44100))*5/44100))/2\n",
    "make_audio(vocal * samples ,FR)"
   ]
  },
  {
   "cell_type": "code",
   "execution_count": null,
   "metadata": {},
   "outputs": [],
   "source": [
    "vocal_padded = np.zeros(guitar.size)\n",
    "vocal_padded[0:vocal.size] = vocal\n",
    "make_audio(vocal_padded - guitar ,FR)"
   ]
  },
  {
   "cell_type": "code",
   "execution_count": null,
   "metadata": {},
   "outputs": [],
   "source": [
    "nj_mri, FR, nj_time = read_wave('WavMRI/NORAHJONES.wav')\n",
    "make_audio(nj_mri,FR)"
   ]
  },
  {
   "cell_type": "code",
   "execution_count": null,
   "metadata": {
    "slideshow": {
     "slide_type": "notes"
    }
   },
   "outputs": [],
   "source": [
    "fp = open_wave(\"WavMRI/EPI.wav\", \"r\")\n",
    "nchannels = fp.getnchannels() \n",
    "nframes = fp.getnframes()\n",
    "framerate = fp.getframerate()\n",
    "\n",
    "# Documentation states that this function returns n frames of audio as a bytes object\n",
    "# From *.wav anatomy lesson, we know that this is a string object (see the table above)\n",
    "z_str = fp.readframes(nframes)\n",
    "\n",
    "ya = np.frombuffer(z_str,dtype=np.int16)"
   ]
  },
  {
   "cell_type": "code",
   "execution_count": null,
   "metadata": {
    "slideshow": {
     "slide_type": "slide"
    }
   },
   "outputs": [],
   "source": [
    "from IPython.display import IFrame\n",
    "IFrame('https://www.youtube.com/embed/EOBiyV55MNg',560,315)"
   ]
  },
  {
   "cell_type": "markdown",
   "metadata": {},
   "source": [
    "![](assets/dissonance.png)\n",
    "\n",
    "#### There are two problems: \n",
    "\n",
    "1) **Duration** The original duration of the first verse (Sunrise, sunrise, looks like morning in your eyes...) is about 13 seconds (`WavGuitar/SUNRISE.wav`), but NORAH JONES sequence played it for 4 seconds only. Not that slow afterall :)  \n",
    "\n",
    "2) **Frequency** 4 different tones we heard were supposed to match the keynotes of the original chords, but not all of them did. \n",
    "\n",
    "We could have solved the problem 1 with `NumPy` only by splitting the file in 4 parts and time strechting each part. Given that we also need to do some \"tuning\", we'll need `SciPy`.  \n",
    "\n",
    "<code style=\"background:cyan;color:black\"> <b>The following table and color-annotated lyrics of the first verse contain neccesary information to harmoniously remix Sunrise guitar & vocal tracks with the acoustic noise of NORAH JONES sequence made at each TR:</b></code>\n",
    "\n",
    "\n",
    "|Tonic Note  | TR (ms)   |Attuned?|Pitch Shift|Color Code|Wav file|\n",
    "|:-----|:-----------|:--------|:----------------|:----------|:--------|\n",
    "|A#2         | 13.1      |   😢   | ⬆️  3 halftones*           | Red      |`3DSPGR_TR13ms.wav`|\n",
    "|D#3         | 12.9      |   🎉   | -              | Blue     |`3DSPGR_TR12ms.wav`|\n",
    "|C3          | 10.1      |   🎉   | -              |Purple     |`3DSPGR_TR10ms.wav`|\n",
    "|G#2         | 20        |   😢   | ⬇️  1 halftone  |Green     |`3DSPGR_TR20ms.wav`|\n",
    "\n",
    "\n",
    "> * You fill learn about halftones in the following section.\n",
    "\n",
    "![](assets/sunrise_chords.png)"
   ]
  },
  {
   "cell_type": "code",
   "execution_count": null,
   "metadata": {},
   "outputs": [],
   "source": [
    "target, FR, target_time = read_wave('REMIX/SUNRISE_SPGR_VERSE1.wav')\n",
    "make_audio(target ,FR)"
   ]
  },
  {
   "cell_type": "code",
   "execution_count": null,
   "metadata": {},
   "outputs": [],
   "source": []
  },
  {
   "cell_type": "code",
   "execution_count": null,
   "metadata": {},
   "outputs": [],
   "source": [
    "samples = (np.sin(2*np.pi*np.arange(44100*duration(aa,44100))*100/44100))/2"
   ]
  },
  {
   "cell_type": "code",
   "execution_count": null,
   "metadata": {},
   "outputs": [],
   "source": [
    "cc = aa * samples\n",
    "make_audio(cc,44100)"
   ]
  },
  {
   "cell_type": "code",
   "execution_count": null,
   "metadata": {},
   "outputs": [],
   "source": [
    "import librosa\n",
    "y, sr = librosa.load('WavMRI/3DSPGR_TR10ms.wav', sr=44100) # y is a numpy array of the wav file, sr = sample rate\n",
    "y_shifted = librosa.effects.pitch_shift(y, sr, n_steps=3) # shifted by 4 half steps\n",
    "Audio(data=y_shifted, rate=sr)"
   ]
  },
  {
   "cell_type": "code",
   "execution_count": null,
   "metadata": {
    "slideshow": {
     "slide_type": "skip"
    }
   },
   "outputs": [],
   "source": [
    "audio = Audio(data=aa.ys, rate=sr)\n",
    "audio"
   ]
  },
  {
   "cell_type": "code",
   "execution_count": null,
   "metadata": {
    "slideshow": {
     "slide_type": "skip"
    }
   },
   "outputs": [],
   "source": [
    "len(y_slow)"
   ]
  },
  {
   "cell_type": "code",
   "execution_count": null,
   "metadata": {},
   "outputs": [],
   "source": [
    "len(y)"
   ]
  },
  {
   "cell_type": "code",
   "execution_count": null,
   "metadata": {},
   "outputs": [],
   "source": []
  },
  {
   "cell_type": "markdown",
   "metadata": {},
   "source": []
  },
  {
   "cell_type": "code",
   "execution_count": null,
   "metadata": {},
   "outputs": [],
   "source": []
  }
 ],
 "metadata": {
  "celltoolbar": "Slideshow",
  "kernelspec": {
   "display_name": "Python 3",
   "language": "python",
   "name": "python3"
  },
  "language_info": {
   "codemirror_mode": {
    "name": "ipython",
    "version": 3
   },
   "file_extension": ".py",
   "mimetype": "text/x-python",
   "name": "python",
   "nbconvert_exporter": "python",
   "pygments_lexer": "ipython3",
   "version": "3.6.12"
  },
  "rise": {
   "enable_chalkboard": true,
   "footer": "<h3 style=\"float:right;\">ISMRM</h3>",
   "scroll": true
  }
 },
 "nbformat": 4,
 "nbformat_minor": 4
}
